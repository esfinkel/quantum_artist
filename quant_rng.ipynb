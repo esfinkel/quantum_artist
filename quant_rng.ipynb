{
 "cells": [
  {
   "cell_type": "code",
   "execution_count": 1,
   "metadata": {},
   "outputs": [],
   "source": [
    "# with thanks to Russell Huffman state of https://medium.com/qiskit/rothko-inspired-generative-quantum-art-6f34ca9d17cb\n",
    "# for providing the code for this part of the project\n",
    "\n",
    "# Importing standard Qiskit libraries and configuring account\n",
    "import qiskit\n",
    "from qiskit import QuantumCircuit, execute, Aer, IBMQ\n",
    "from qiskit.compiler import transpile, assemble\n",
    "from qiskit.tools.jupyter import *\n",
    "from qiskit.visualization import *"
   ]
  },
  {
   "cell_type": "code",
   "execution_count": 2,
   "metadata": {},
   "outputs": [
    {
     "name": "stderr",
     "output_type": "stream",
     "text": [
<<<<<<< HEAD
      "/anaconda3/lib/python3.6/site-packages/qiskit/providers/ibmq/ibmqfactory.py:192: UserWarning: Timestamps in IBMQ backend properties, jobs, and job results are all now in local time instead of UTC.\n",
=======
      "/Users/Ellie/anaconda/lib/python3.7/site-packages/qiskit/providers/ibmq/ibmqfactory.py:192: UserWarning: Timestamps in IBMQ backend properties, jobs, and job results are all now in local time instead of UTC.\n",
>>>>>>> 7ab52e7fec84cbd84bc1c5808f127275febcfde6
      "  warnings.warn('Timestamps in IBMQ backend properties, jobs, and job results '\n"
     ]
    },
    {
     "data": {
      "text/html": [
       "<pre style=\"word-wrap: normal;white-space: pre;background: #fff0;line-height: 1.1;font-family: &quot;Courier New&quot;,Courier,monospace\">     ┌───┐     ┌─┐   \n",
       "q_0: ┤ H ├──■──┤M├───\n",
       "     └───┘┌─┴─┐└╥┘┌─┐\n",
       "q_1: ─────┤ X ├─╫─┤M├\n",
       "          └───┘ ║ └╥┘\n",
       "c: 2/═══════════╩══╩═\n",
       "                0  1 </pre>"
      ],
      "text/plain": [
       "     ┌───┐     ┌─┐   \n",
       "q_0: ┤ H ├──■──┤M├───\n",
       "     └───┘┌─┴─┐└╥┘┌─┐\n",
       "q_1: ─────┤ X ├─╫─┤M├\n",
       "          └───┘ ║ └╥┘\n",
       "c: 2/═══════════╩══╩═\n",
       "                0  1 "
      ]
     },
     "execution_count": 2,
     "metadata": {},
     "output_type": "execute_result"
    }
   ],
   "source": [
    "# Loading your IBM Q account(s)\n",
    "provider = IBMQ.load_account()\n",
    "\n",
    "circuit = QuantumCircuit(2, 2)\n",
    "\n",
    "circuit.h(0)\n",
    "circuit.cx(0, 1)\n",
    "circuit.measure([0,1], [0,1])\n",
    "\n",
    "circuit.draw()"
   ]
  },
  {
   "cell_type": "code",
   "execution_count": 3,
   "metadata": {},
   "outputs": [
    {
     "name": "stdout",
     "output_type": "stream",
     "text": [
<<<<<<< HEAD
      "511\n",
      "489\n",
=======
      "532\n",
      "468\n",
>>>>>>> 7ab52e7fec84cbd84bc1c5808f127275febcfde6
      "0\n",
      "0\n"
     ]
    }
   ],
   "source": [
    "# pick a device to run on\n",
    "backend = provider.get_backend('ibmq_qasm_simulator')\n",
    "\n",
    "# Execute the circuit on the backend\n",
    "job = execute(circuit, backend, shots=1000, memory=True)\n",
    "\n",
    "# Grab results from the job\n",
    "result = job.result()\n",
    "\n",
    "#get individual shots\n",
    "memory = result.get_memory()\n",
    "\n",
    "# need an array to drop all the results into\n",
    "outputArray = []\n",
    "\n",
    "#convert results to int and drop into array\n",
    "for x in range(0, 1000):\n",
    "    outputArray.append(memory[x])\n",
    "    \n",
    "# print(outputArray)\n",
    "print(outputArray.count('00'))\n",
    "print(outputArray.count('11'))\n",
    "print(outputArray.count('01'))\n",
    "print(outputArray.count('10'))"
   ]
  },
  {
   "cell_type": "code",
   "execution_count": null,
   "metadata": {},
   "outputs": [],
   "source": []
  }
 ],
 "metadata": {
  "kernelspec": {
   "display_name": "Python 3",
   "language": "python",
   "name": "python3"
  },
  "language_info": {
   "codemirror_mode": {
    "name": "ipython",
    "version": 3
   },
   "file_extension": ".py",
   "mimetype": "text/x-python",
   "name": "python",
   "nbconvert_exporter": "python",
   "pygments_lexer": "ipython3",
   "version": "3.7.3"
  }
 },
 "nbformat": 4,
 "nbformat_minor": 2
}
